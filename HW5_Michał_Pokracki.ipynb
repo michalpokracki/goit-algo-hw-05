{
  "cells": [
    {
      "cell_type": "markdown",
      "metadata": {
        "id": "2wZWeEpKcTDq"
      },
      "source": [
        "# TASK 1"
      ]
    },
    {
      "cell_type": "code",
      "execution_count": 1,
      "metadata": {
        "colab": {
          "base_uri": "https://localhost:8080/"
        },
        "id": "JLGIeVxTZLZQ",
        "outputId": "676727fe-5879-45d6-9813-f8b9a8f60827"
      },
      "outputs": [
        {
          "name": "stdout",
          "output_type": "stream",
          "text": [
            "value1\n",
            "None\n"
          ]
        }
      ],
      "source": [
        "class HashTable:\n",
        "    def __init__(self, size=10):\n",
        "        self.size = size\n",
        "        self.table = [None] * size\n",
        "\n",
        "    def hash_function(self, key):\n",
        "        return hash(key) % self.size\n",
        "\n",
        "    def insert(self, key, value):\n",
        "        index = self.hash_function(key)\n",
        "        if self.table[index] is None:\n",
        "            self.table[index] = []\n",
        "        self.table[index].append((key, value))\n",
        "\n",
        "    def search(self, key):\n",
        "        index = self.hash_function(key)\n",
        "        if self.table[index] is not None:\n",
        "            for kvp in self.table[index]:\n",
        "                if kvp[0] == key:\n",
        "                    return kvp[1]\n",
        "        return None\n",
        "\n",
        "    def delete(self, key):\n",
        "        index = self.hash_function(key)\n",
        "        if self.table[index] is not None:\n",
        "            for i, kvp in enumerate(self.table[index]):\n",
        "                if kvp[0] == key:\n",
        "                    del self.table[index][i]\n",
        "                    return True\n",
        "        return False\n",
        "\n",
        "# Example usage\n",
        "ht = HashTable()\n",
        "ht.insert(\"key1\", \"value1\")\n",
        "ht.insert(\"key2\", \"value2\")\n",
        "print(ht.search(\"key1\"))  # Outputs: value1\n",
        "ht.delete(\"key1\")\n",
        "print(ht.search(\"key1\"))  # Outputs: None\n"
      ]
    },
    {
      "cell_type": "markdown",
      "metadata": {
        "id": "jaTyHi4_jNH1"
      },
      "source": [
        "# TASK 2"
      ]
    },
    {
      "cell_type": "code",
      "execution_count": 2,
      "metadata": {
        "colab": {
          "base_uri": "https://localhost:8080/"
        },
        "id": "K0wcrPehjPLU",
        "outputId": "95ae4f51-095f-46f8-973d-c0bfc517c44c"
      },
      "outputs": [
        {
          "name": "stdout",
          "output_type": "stream",
          "text": [
            "(3, 3.3)\n"
          ]
        }
      ],
      "source": [
        "def binary_search(arr, x):\n",
        "    low = 0\n",
        "    high = len(arr) - 1\n",
        "    iterations = 0\n",
        "    upper_bound = None\n",
        "\n",
        "    while low <= high:\n",
        "        mid = (low + high) // 2\n",
        "        iterations += 1\n",
        "        if arr[mid] == x:\n",
        "            return (iterations, arr[mid])\n",
        "        elif arr[mid] < x:\n",
        "            low = mid + 1\n",
        "        else:\n",
        "            high = mid - 1\n",
        "            upper_bound = arr[mid]\n",
        "\n",
        "    if upper_bound is None and low < len(arr):\n",
        "        upper_bound = arr[low]\n",
        "    return (iterations, upper_bound)\n",
        "\n",
        "# Example usage\n",
        "sorted_array = [1.1, 2.2, 3.3, 4.4, 5.5]\n",
        "value_to_find = 3.0\n",
        "print(binary_search(sorted_array, value_to_find))  # Outputs: (2, 3.3)\n"
      ]
    },
    {
      "cell_type": "markdown",
      "metadata": {
        "id": "qk1qHfC2lvlc"
      },
      "source": [
        "# TASK 3"
      ]
    },
    {
      "cell_type": "markdown",
      "metadata": {},
      "source": [
        "Step 1: Implement the substring search algorithms"
      ]
    },
    {
      "cell_type": "markdown",
      "metadata": {},
      "source": [
        "Boyer-Moore Algorithm"
      ]
    },
    {
      "cell_type": "code",
      "execution_count": 3,
      "metadata": {
        "id": "GRmP7ZIplxMX"
      },
      "outputs": [],
      "source": [
        "def boyer_moore_search(text, pattern):\n",
        "    def bad_character_table(pattern):\n",
        "        table = {}\n",
        "        length = len(pattern)\n",
        "        for i in range(length - 1):\n",
        "            table[pattern[i]] = length - i - 1\n",
        "        return table\n",
        "    \n",
        "    bad_char_table = bad_character_table(pattern)\n",
        "    m, n = len(pattern), len(text)\n",
        "    s = 0  # shift of the pattern with respect to text\n",
        "    iterations = 0\n",
        "    \n",
        "    while s <= n - m:\n",
        "        j = m - 1\n",
        "        while j >= 0 and pattern[j] == text[s + j]:\n",
        "            j -= 1\n",
        "        if j < 0:\n",
        "            return (iterations, s)  # found pattern at index s\n",
        "        else:\n",
        "            s += bad_char_table.get(text[s + j], m)\n",
        "        iterations += 1\n",
        "    \n",
        "    return (iterations, -1)  # pattern not found\n"
      ]
    },
    {
      "cell_type": "markdown",
      "metadata": {},
      "source": [
        "Knuth-Morris-Pratt (KMP) Algorithm"
      ]
    },
    {
      "cell_type": "code",
      "execution_count": 4,
      "metadata": {},
      "outputs": [],
      "source": [
        "def kmp_search(text, pattern):\n",
        "    def compute_lps(pattern):\n",
        "        lps = [0] * len(pattern)\n",
        "        length = 0\n",
        "        i = 1\n",
        "        while i < len(pattern):\n",
        "            if pattern[i] == pattern[length]:\n",
        "                length += 1\n",
        "                lps[i] = length\n",
        "                i += 1\n",
        "            else:\n",
        "                if length != 0:\n",
        "                    length = lps[length - 1]\n",
        "                else:\n",
        "                    lps[i] = 0\n",
        "                    i += 1\n",
        "        return lps\n",
        "    \n",
        "    lps = compute_lps(pattern)\n",
        "    i = j = 0\n",
        "    iterations = 0\n",
        "    \n",
        "    while i < len(text):\n",
        "        if pattern[j] == text[i]:\n",
        "            i += 1\n",
        "            j += 1\n",
        "        \n",
        "        if j == len(pattern):\n",
        "            return (iterations, i - j)  # found pattern at index i-j\n",
        "            j = lps[j - 1]\n",
        "        elif i < len(text) and pattern[j] != text[i]:\n",
        "            if j != 0:\n",
        "                j = lps[j - 1]\n",
        "            else:\n",
        "                i += 1\n",
        "        iterations += 1\n",
        "    \n",
        "    return (iterations, -1)  # pattern not found\n"
      ]
    },
    {
      "cell_type": "markdown",
      "metadata": {},
      "source": [
        "Rabin-Karp Algorithm"
      ]
    },
    {
      "cell_type": "code",
      "execution_count": 5,
      "metadata": {},
      "outputs": [],
      "source": [
        "def rabin_karp_search(text, pattern, q=101):\n",
        "    d = 256\n",
        "    m = len(pattern)\n",
        "    n = len(text)\n",
        "    p = 0  # hash value for pattern\n",
        "    t = 0  # hash value for text\n",
        "    h = 1\n",
        "    iterations = 0\n",
        "\n",
        "    for i in range(m - 1):\n",
        "        h = (h * d) % q\n",
        "\n",
        "    for i in range(m):\n",
        "        p = (d * p + ord(pattern[i])) % q\n",
        "        t = (d * t + ord(text[i])) % q\n",
        "\n",
        "    for i in range(n - m + 1):\n",
        "        if p == t:\n",
        "            if text[i:i+m] == pattern:\n",
        "                return (iterations, i)  # found pattern at index i\n",
        "\n",
        "        if i < n - m:\n",
        "            t = (d * (t - ord(text[i]) * h) + ord(text[i + m])) % q\n",
        "            if t < 0:\n",
        "                t = t + q\n",
        "        iterations += 1\n",
        "    \n",
        "    return (iterations, -1)  # pattern not found\n"
      ]
    },
    {
      "cell_type": "markdown",
      "metadata": {},
      "source": [
        "Step 2: Read the text files and define test cases"
      ]
    },
    {
      "cell_type": "code",
      "execution_count": 6,
      "metadata": {},
      "outputs": [],
      "source": [
        "def read_file_with_encodings(file_path, encodings=['utf-8-sig', 'latin1', 'cp1252']):\n",
        "    for encoding in encodings:\n",
        "        try:\n",
        "            with open(file_path, 'r', encoding=encoding) as file:\n",
        "                return file.read()\n",
        "        except UnicodeDecodeError:\n",
        "            continue\n",
        "    raise UnicodeDecodeError(f\"Unable to read the file {file_path} with the given encodings.\")\n",
        "\n",
        "# Read the text files\n",
        "text1 = read_file_with_encodings('/Users/michalpokracki/Downloads/article1.txt')\n",
        "text2 = read_file_with_encodings('/Users/michalpokracki/Downloads/article2.txt')\n",
        "\n",
        "# Define substrings for testing\n",
        "existing_substring1 = \"existing substring in article 1\"\n",
        "non_existing_substring1 = \"this substring does not exist in article 1\"\n",
        "\n",
        "existing_substring2 = \"existing substring in article 2\"\n",
        "non_existing_substring2 = \"this substring does not exist in article 2\"\n"
      ]
    },
    {
      "cell_type": "markdown",
      "metadata": {},
      "source": [
        "Step 3: Measure the execution time using timeit"
      ]
    },
    {
      "cell_type": "code",
      "execution_count": 7,
      "metadata": {},
      "outputs": [],
      "source": [
        "import timeit\n",
        "\n",
        "def measure_time(search_function, text, pattern):\n",
        "    wrapped = lambda: search_function(text, pattern)\n",
        "    time = timeit.timeit(wrapped, number=1000)  # measure time over 1000 executions\n",
        "    return time\n",
        "\n",
        "# Measure times for article 1\n",
        "time_bm_exist1 = measure_time(boyer_moore_search, text1, existing_substring1)\n",
        "time_bm_non_exist1 = measure_time(boyer_moore_search, text1, non_existing_substring1)\n",
        "\n",
        "time_kmp_exist1 = measure_time(kmp_search, text1, existing_substring1)\n",
        "time_kmp_non_exist1 = measure_time(kmp_search, text1, non_existing_substring1)\n",
        "\n",
        "time_rk_exist1 = measure_time(rabin_karp_search, text1, existing_substring1)\n",
        "time_rk_non_exist1 = measure_time(rabin_karp_search, text1, non_existing_substring1)\n",
        "\n",
        "# Measure times for article 2\n",
        "time_bm_exist2 = measure_time(boyer_moore_search, text2, existing_substring2)\n",
        "time_bm_non_exist2 = measure_time(boyer_moore_search, text2, non_existing_substring2)\n",
        "\n",
        "time_kmp_exist2 = measure_time(kmp_search, text2, existing_substring2)\n",
        "time_kmp_non_exist2 = measure_time(kmp_search, text2, non_existing_substring2)\n",
        "\n",
        "time_rk_exist2 = measure_time(rabin_karp_search, text2, existing_substring2)\n",
        "time_rk_non_exist2 = measure_time(rabin_karp_search, text2, non_existing_substring2)\n"
      ]
    },
    {
      "cell_type": "markdown",
      "metadata": {},
      "source": [
        "Step 4: Compare the results"
      ]
    },
    {
      "cell_type": "code",
      "execution_count": 8,
      "metadata": {},
      "outputs": [
        {
          "name": "stdout",
          "output_type": "stream",
          "text": [
            "Results have been saved to 'results.md'\n"
          ]
        }
      ],
      "source": [
        "results_markdown = f\"\"\"\n",
        "# Substring Search Algorithm Efficiency\n",
        "\n",
        "## Article 1\n",
        "\n",
        "| Algorithm       | Existing Substring Time (ms) | Non-Existing Substring Time (ms) |\n",
        "|-----------------|------------------------------|----------------------------------|\n",
        "| Boyer-Moore     | {time_bm_exist1:.6f}              | {time_bm_non_exist1:.6f}            |\n",
        "| Knuth-Morris-Pratt | {time_kmp_exist1:.6f}          | {time_kmp_non_exist1:.6f}           |\n",
        "| Rabin-Karp      | {time_rk_exist1:.6f}              | {time_rk_non_exist1:.6f}            |\n",
        "\n",
        "## Article 2\n",
        "\n",
        "| Algorithm       | Existing Substring Time (ms) | Non-Existing Substring Time (ms) |\n",
        "|-----------------|------------------------------|----------------------------------|\n",
        "| Boyer-Moore     | {time_bm_exist2:.6f}              | {time_bm_non_exist2:.6f}            |\n",
        "| Knuth-Morris-Pratt | {time_kmp_exist2:.6f}          | {time_kmp_non_exist2:.6f}           |\n",
        "| Rabin-Karp      | {time_rk_exist2:.6f}              | {time_rk_non_exist2:.6f}            |\n",
        "\n",
        "## Conclusion\n",
        "\n",
        "Based on the above results, the fastest algorithm for each article and in general is determined.\n",
        "- For Article 1, the fastest algorithm is: {'Boyer-Moore' if min(time_bm_exist1, time_kmp_exist1, time_rk_exist1) == time_bm_exist1 else 'Knuth-Morris-Pratt' if min(time_bm_exist1, time_kmp_exist1, time_rk_exist1) == time_kmp_exist1 else 'Rabin-Karp'}\n",
        "- For Article 2, the fastest algorithm is: {'Boyer-Moore' if min(time_bm_exist2, time_kmp_exist2, time_rk_exist2) == time_bm_exist2 else 'Knuth-Morris-Pratt' if min(time_bm_exist2, time_kmp_exist2, time_rk_exist2) == time_kmp_exist2 else 'Rabin-Karp'}\n",
        "- Overall, the fastest algorithm is: {'Boyer-Moore' if min(time_bm_exist1 + time_bm_exist2, time_kmp_exist1 + time_kmp_exist2, time_rk_exist1 + time_rk_exist2) == time_bm_exist1 + time_bm_exist2 else 'Knuth-Morris-Pratt' if min(time_bm_exist1 + time_bm_exist2, time_kmp_exist1 + time_kmp_exist2, time_rk_exist1 + time_rk_exist2) == time_kmp_exist1 + time_kmp_exist2 else 'Rabin-Karp'}\n",
        "\"\"\"\n",
        "\n",
        "# Save the results to a markdown file\n",
        "with open('results.md', 'w') as file:\n",
        "    file.write(results_markdown)\n",
        "\n",
        "print(\"Results have been saved to 'results.md'\")\n"
      ]
    }
  ],
  "metadata": {
    "colab": {
      "provenance": []
    },
    "kernelspec": {
      "display_name": "Python 3",
      "name": "python3"
    },
    "language_info": {
      "codemirror_mode": {
        "name": "ipython",
        "version": 3
      },
      "file_extension": ".py",
      "mimetype": "text/x-python",
      "name": "python",
      "nbconvert_exporter": "python",
      "pygments_lexer": "ipython3",
      "version": "3.12.4"
    }
  },
  "nbformat": 4,
  "nbformat_minor": 0
}
